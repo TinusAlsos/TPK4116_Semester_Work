{
 "cells": [
  {
   "cell_type": "markdown",
   "id": "0db5cac1",
   "metadata": {},
   "source": [
    "## Problem 2"
   ]
  },
  {
   "cell_type": "code",
   "execution_count": 1,
   "id": "b89c7f53",
   "metadata": {},
   "outputs": [],
   "source": [
    "# data\n",
    "mua1 = 16\n",
    "mua2 = 8\n",
    "mub1 = 10\n",
    "mub2 = 8\n",
    "muc1 = 14\n",
    "muc2 = 6\n",
    "p1, p2 = 10, 12\n",
    "\n",
    "la = 5 # lambda [per day]\n",
    "mu = 1/3 # arrival rate [per day]\n",
    "r = 20 # reorder point\n",
    "Q = 20 # Order quantity\n",
    "cF = 100 # Fixed cost per order\n",
    "cH = 2 # Holding cost per item per day\n",
    "cS = 230 # Stock-out cost per day"
   ]
  },
  {
   "cell_type": "code",
   "execution_count": null,
   "id": "3b63539a",
   "metadata": {},
   "outputs": [],
   "source": []
  }
 ],
 "metadata": {
  "kernelspec": {
   "display_name": "Python 3",
   "language": "python",
   "name": "python3"
  },
  "language_info": {
   "codemirror_mode": {
    "name": "ipython",
    "version": 3
   },
   "file_extension": ".py",
   "mimetype": "text/x-python",
   "name": "python",
   "nbconvert_exporter": "python",
   "pygments_lexer": "ipython3",
   "version": "3.8.8"
  }
 },
 "nbformat": 4,
 "nbformat_minor": 5
}
