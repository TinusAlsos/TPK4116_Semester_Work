{
 "cells": [
  {
   "cell_type": "markdown",
   "id": "0db5cac1",
   "metadata": {},
   "source": [
    "## Problem 2"
   ]
  },
  {
   "cell_type": "code",
   "execution_count": 1,
   "id": "80c89145",
   "metadata": {},
   "outputs": [],
   "source": [
    "# Imports\n",
    "import numpy as np\n",
    "import scipy\n",
    "import math\n",
    "import matplotlib.pyplot as plt\n",
    "import statistics\n",
    "import pandas as pd"
   ]
  },
  {
   "cell_type": "code",
   "execution_count": 2,
   "id": "b89c7f53",
   "metadata": {},
   "outputs": [],
   "source": [
    "# data\n",
    "la = 5 # lambda, Demand rate [per day]\n",
    "mu = 1/3 # arrival rate [per day]\n",
    "r = 20 # reorder point\n",
    "Q = 20 # Order quantity\n",
    "cF = 100 # Fixed cost per order\n",
    "cH = 2 # Holding cost per item per day\n",
    "cS = 230 # Stock-out cost per day\n",
    "L = 1/mu"
   ]
  },
  {
   "cell_type": "markdown",
   "id": "0d24d867",
   "metadata": {},
   "source": [
    "#### a) "
   ]
  },
  {
   "cell_type": "code",
   "execution_count": 3,
   "id": "3b63539a",
   "metadata": {},
   "outputs": [
    {
     "name": "stdout",
     "output_type": "stream",
     "text": [
      "row 0 = \n",
      "[-0.33333333  0.          0.          0.          0.          0.\n",
      "  0.          0.          0.          0.          0.          0.\n",
      "  0.          0.          0.          0.          0.          0.\n",
      "  0.          0.          0.33333333  0.          0.          0.\n",
      "  0.          0.          0.          0.          0.          0.\n",
      "  0.          0.          0.          0.          0.          0.\n",
      "  0.          0.          0.          0.          0.        ]\n",
      "row 1 = \n",
      "[ 5.         -5.33333333  0.          0.          0.          0.\n",
      "  0.          0.          0.          0.          0.          0.\n",
      "  0.          0.          0.          0.          0.          0.\n",
      "  0.          0.          0.          0.33333333  0.          0.\n",
      "  0.          0.          0.          0.          0.          0.\n",
      "  0.          0.          0.          0.          0.          0.\n",
      "  0.          0.          0.          0.          0.        ]\n",
      "row 20 = \n",
      "[ 0.          0.          0.          0.          0.          0.\n",
      "  0.          0.          0.          0.          0.          0.\n",
      "  0.          0.          0.          0.          0.          0.\n",
      "  0.          5.         -5.33333333  0.          0.          0.\n",
      "  0.          0.          0.          0.          0.          0.\n",
      "  0.          0.          0.          0.          0.          0.\n",
      "  0.          0.          0.          0.          0.33333333]\n",
      "row 40 = \n",
      "[ 0.  0.  0.  0.  0.  0.  0.  0.  0.  0.  0.  0.  0.  0.  0.  0.  0.  0.\n",
      "  0.  0.  0.  0.  0.  0.  0.  0.  0.  0.  0.  0.  0.  0.  0.  0.  0.  0.\n",
      "  0.  0.  0.  5. -5.]\n"
     ]
    }
   ],
   "source": [
    "s0 = 0 #Initial state\n",
    "A = np.zeros((41, 41))\n",
    "# Fix \n",
    "for i in range(r + 1):\n",
    "    A[i, i + Q] = mu\n",
    "# Set demand rate \n",
    "for i in range(1, 41):\n",
    "    A[i, i - 1] = la # ???\n",
    "# Set diagonals such that each row equals 0\n",
    "for i in range(41):\n",
    "    for j in range(41):\n",
    "        if i == j:\n",
    "            diag_val = -np.sum(A[i])\n",
    "            A[i,j] = diag_val\n",
    "print(f\"row 0 = \\n{A[0]}\")\n",
    "print(f\"row 1 = \\n{A[1]}\")\n",
    "\n",
    "print(f\"row 20 = \\n{A[20]}\")\n",
    "print(f\"row 40 = \\n{A[-1]}\")"
   ]
  },
  {
   "cell_type": "code",
   "execution_count": 4,
   "id": "0f4b68e5",
   "metadata": {},
   "outputs": [],
   "source": [
    "# print(\"A = \")\n",
    "# for i in range(41):\n",
    "#     string = \"\"\n",
    "#     for j in range(41):\n",
    "#         if A[i,j] == 0:\n",
    "#             string += \" 0 \"\n",
    "#         else:\n",
    "#             string += \" \" + str(A[i,j])[:3]\n",
    "#     print(string)\n",
    "#     print(\"\")\n",
    "    "
   ]
  },
  {
   "cell_type": "markdown",
   "id": "6b0577b8",
   "metadata": {},
   "source": [
    "#### b) "
   ]
  },
  {
   "cell_type": "markdown",
   "id": "0554889b",
   "metadata": {},
   "source": [
    "To find the steady state solution, we follow the procedure in chapter **7.1.3**. We have the $A$ matrix, and substitute the first column with 1's to get $A_1$. $b$ is simply a column vector with 0s in all places but the first. In matrix form, we have $$P \\cdot A_1 = b $$ We transpose both sides of the equation to get $$A_1^T \\cdot P^T = b^T$$ This is on standard form, and we can solve it using scipy.linalg.solve."
   ]
  },
  {
   "cell_type": "code",
   "execution_count": 5,
   "id": "bb723a8c",
   "metadata": {},
   "outputs": [
    {
     "name": "stdout",
     "output_type": "stream",
     "text": [
      "[0.17101476 0.01140098 0.01216105 0.01297179 0.01383657 0.01475901\n",
      " 0.01574294 0.01679247 0.01791197 0.0191061  0.02037984 0.0217385\n",
      " 0.02318773 0.02473358 0.02638249 0.02814132 0.03001741 0.03201857\n",
      " 0.03415314 0.03643002 0.03885868 0.03004828 0.02928821 0.02847748\n",
      " 0.02761269 0.02669025 0.02570632 0.02465679 0.02353729 0.02234316\n",
      " 0.02106942 0.01971076 0.01826153 0.01671568 0.01506677 0.01330794\n",
      " 0.01143185 0.00943069 0.00729612 0.00501925 0.00259058]\n"
     ]
    }
   ],
   "source": [
    "# Replace first column with 1's in the A-matrix to get A1\n",
    "A[:,0] = 1\n",
    "b = np.zeros(41)\n",
    "b[0] = 1\n",
    "# b = np.array([b])\n",
    "\n",
    "# print(At)\n",
    "PT = scipy.linalg.solve(np.transpose(A), b.T)\n",
    "P = PT.T\n",
    "print(P)\n",
    "# print(f\"row 0 = \\n{A[0]}\")\n",
    "# print(f\"row 20 = \\n{A[20]}\")\n",
    "# print(f\"row 40 = \\n{A[-1]}\")"
   ]
  },
  {
   "cell_type": "code",
   "execution_count": 7,
   "id": "d545a91c",
   "metadata": {},
   "outputs": [
    {
     "name": "stdout",
     "output_type": "stream",
     "text": [
      "Average time we are not able to produce product 2 = 17.10 % of the time\n"
     ]
    }
   ],
   "source": [
    "ave_time_no_prod = P[0]\n",
    "print(f\"Average time we are not able to produce product 2 = {ave_time_no_prod*100:.2f} % of the time\")"
   ]
  },
  {
   "cell_type": "markdown",
   "id": "b9242e2f",
   "metadata": {},
   "source": [
    "#### c) "
   ]
  },
  {
   "cell_type": "markdown",
   "id": "8a63cda7",
   "metadata": {},
   "source": [
    "For a stock-out situation to occur, we will have 0 parts left and have a customer that wants a unit. "
   ]
  },
  {
   "cell_type": "code",
   "execution_count": 9,
   "id": "9e69fae2",
   "metadata": {},
   "outputs": [
    {
     "name": "stdout",
     "output_type": "stream",
     "text": [
      "A stock-out situation will occur 0.86 [unit???]\n"
     ]
    }
   ],
   "source": [
    "stock_out = la*P[0]\n",
    "print(f\"A stock-out situation will occur {stock_out:.2f} [unit???]\")"
   ]
  },
  {
   "cell_type": "markdown",
   "id": "26813fa6",
   "metadata": {},
   "source": [
    "#### d) "
   ]
  },
  {
   "cell_type": "code",
   "execution_count": 14,
   "id": "6921a5d9",
   "metadata": {},
   "outputs": [
    {
     "name": "stdout",
     "output_type": "stream",
     "text": [
      "Average holding cost = 32.54\n",
      "Average shipping cost = 25.00\n",
      "Lost production cost = 39.33\n"
     ]
    }
   ],
   "source": [
    "# Usikker på disse, må høre med studass\n",
    "holding_cost = sum(P*range(41)*cH)\n",
    "print(f\"Average holding cost = {holding_cost:.2f}\")\n",
    "shipping_cost = cF*(la/Q)\n",
    "print(f\"Average shipping cost = {shipping_cost:.2f}\")\n",
    "lost_production_cost = cS*P[0]\n",
    "print(f\"Lost production cost = {lost_production_cost:.2f}\")"
   ]
  },
  {
   "cell_type": "markdown",
   "id": "636a68d7",
   "metadata": {},
   "source": [
    "#### e) "
   ]
  },
  {
   "cell_type": "markdown",
   "id": "5a39c9b2",
   "metadata": {},
   "source": [
    "Since we order a quantity of Q = 20 as soon as we reach r = 20, that is, in state $P_{20}$, we need to caluclate the probability that four days pass ($4\\cdot\\lambda$ = 20), given that the arrival rate i $\\mu$. Let $F_X$ be the cumulative probability function of the arrival after an order, which is exponentially distributed with mean value $\\frac{1}{\\mu}$. Then we simply need to multiply the CDF between intervals 4-5 (1 day delay), 5-6 (2 day delay) and so on with the number of days of delay to get the average delay time for stock out situations. To achieve a result, we test for orders up to 100 days"
   ]
  },
  {
   "cell_type": "code",
   "execution_count": 28,
   "id": "9e0a48c3",
   "metadata": {},
   "outputs": [
    {
     "name": "stdout",
     "output_type": "stream",
     "text": [
      "Average wait time in stock out situation = 4605.63\n"
     ]
    }
   ],
   "source": [
    "dist = scipy.stats.expon(scale = 1/mu)\n",
    "FX = lambda d: dist.cdf(d)*(d-4) # d is the number of days\n",
    "FX(5)\n",
    "ave_wait_time, err = scipy.integrate.quad(FX, 4, 100)\n",
    "print(f\"Average wait time in stock out situation = {ave_wait_time:.2f}\")"
   ]
  },
  {
   "cell_type": "code",
   "execution_count": null,
   "id": "11850cc9",
   "metadata": {},
   "outputs": [],
   "source": []
  }
 ],
 "metadata": {
  "kernelspec": {
   "display_name": "Python 3",
   "language": "python",
   "name": "python3"
  },
  "language_info": {
   "codemirror_mode": {
    "name": "ipython",
    "version": 3
   },
   "file_extension": ".py",
   "mimetype": "text/x-python",
   "name": "python",
   "nbconvert_exporter": "python",
   "pygments_lexer": "ipython3",
   "version": "3.8.8"
  }
 },
 "nbformat": 4,
 "nbformat_minor": 5
}
