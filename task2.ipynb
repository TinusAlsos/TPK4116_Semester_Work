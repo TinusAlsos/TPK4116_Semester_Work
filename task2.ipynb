{
 "cells": [
  {
   "cell_type": "markdown",
   "id": "0db5cac1",
   "metadata": {},
   "source": [
    "## Problem 2"
   ]
  },
  {
   "cell_type": "code",
   "execution_count": 1,
   "id": "80c89145",
   "metadata": {},
   "outputs": [],
   "source": [
    "# Imports\n",
    "import numpy as np\n",
    "import scipy\n",
    "import math\n",
    "import matplotlib.pyplot as plt\n",
    "import statistics\n",
    "import pandas as pd\n",
    "from IPython.display import Image"
   ]
  },
  {
   "cell_type": "code",
   "execution_count": 2,
   "id": "b89c7f53",
   "metadata": {},
   "outputs": [],
   "source": [
    "# data\n",
    "la = 5 # lambda, Demand rate [per day]\n",
    "mu = 1/3 # arrival rate [per day]\n",
    "r = 20 # reorder point\n",
    "Q = 20 # Order quantity\n",
    "cF = 100 # Fixed cost per order\n",
    "cH = 2 # Holding cost per item per day\n",
    "cS = 230 # Stock-out cost per day\n",
    "L = 1/mu"
   ]
  },
  {
   "cell_type": "markdown",
   "id": "0d24d867",
   "metadata": {},
   "source": [
    "#### a) "
   ]
  },
  {
   "cell_type": "markdown",
   "id": "efda81c6",
   "metadata": {},
   "source": [
    "![Markov Transition Diagram](Markov_Task2a.jpg)"
   ]
  },
  {
   "cell_type": "code",
   "execution_count": 3,
   "id": "3b63539a",
   "metadata": {},
   "outputs": [
    {
     "name": "stdout",
     "output_type": "stream",
     "text": [
      "row 0 = \n",
      "[-0.33333333  0.          0.          0.          0.          0.\n",
      "  0.          0.          0.          0.          0.          0.\n",
      "  0.          0.          0.          0.          0.          0.\n",
      "  0.          0.          0.33333333  0.          0.          0.\n",
      "  0.          0.          0.          0.          0.          0.\n",
      "  0.          0.          0.          0.          0.          0.\n",
      "  0.          0.          0.          0.          0.        ]\n",
      "row 1 = \n",
      "[ 5.         -5.33333333  0.          0.          0.          0.\n",
      "  0.          0.          0.          0.          0.          0.\n",
      "  0.          0.          0.          0.          0.          0.\n",
      "  0.          0.          0.          0.33333333  0.          0.\n",
      "  0.          0.          0.          0.          0.          0.\n",
      "  0.          0.          0.          0.          0.          0.\n",
      "  0.          0.          0.          0.          0.        ]\n",
      "row 20 = \n",
      "[ 0.          0.          0.          0.          0.          0.\n",
      "  0.          0.          0.          0.          0.          0.\n",
      "  0.          0.          0.          0.          0.          0.\n",
      "  0.          5.         -5.33333333  0.          0.          0.\n",
      "  0.          0.          0.          0.          0.          0.\n",
      "  0.          0.          0.          0.          0.          0.\n",
      "  0.          0.          0.          0.          0.33333333]\n",
      "row 40 = \n",
      "[ 0.  0.  0.  0.  0.  0.  0.  0.  0.  0.  0.  0.  0.  0.  0.  0.  0.  0.\n",
      "  0.  0.  0.  0.  0.  0.  0.  0.  0.  0.  0.  0.  0.  0.  0.  0.  0.  0.\n",
      "  0.  0.  0.  5. -5.]\n"
     ]
    }
   ],
   "source": [
    "s0 = 0 #Initial state\n",
    "A = np.zeros((41, 41))\n",
    "# Set arrival rate\n",
    "for i in range(r + 1):\n",
    "    A[i, i + Q] = mu\n",
    "# Set demand rate \n",
    "for i in range(1, 41):\n",
    "    A[i, i - 1] = la # ???\n",
    "# Set diagonals such that each row equals 0\n",
    "for i in range(41):\n",
    "    for j in range(41):\n",
    "        if i == j:\n",
    "            diag_val = -np.sum(A[i])\n",
    "            A[i,j] = diag_val\n",
    "print(f\"row 0 = \\n{A[0]}\")\n",
    "print(f\"row 1 = \\n{A[1]}\")\n",
    "\n",
    "print(f\"row 20 = \\n{A[20]}\")\n",
    "print(f\"row 40 = \\n{A[-1]}\")"
   ]
  },
  {
   "cell_type": "code",
   "execution_count": 4,
   "id": "0f4b68e5",
   "metadata": {},
   "outputs": [],
   "source": [
    "# print(\"A = \")\n",
    "# for i in range(41):\n",
    "#     string = \"\"\n",
    "#     for j in range(41):\n",
    "#         if A[i,j] == 0:\n",
    "#             string += \" 0 \"\n",
    "#         else:\n",
    "#             string += \" \" + str(A[i,j])[:3]\n",
    "#     print(string)\n",
    "#     print(\"\")\n",
    "    "
   ]
  },
  {
   "cell_type": "markdown",
   "id": "6b0577b8",
   "metadata": {},
   "source": [
    "#### b) "
   ]
  },
  {
   "cell_type": "markdown",
   "id": "0554889b",
   "metadata": {},
   "source": [
    "To find the steady state solution, we follow the procedure in chapter **7.1.3**. We have the $A$ matrix, and substitute the first column with 1's to get $A_1$. $b$ is simply a column vector with 0s in all places but the first. In matrix form, we have $$P \\cdot A_1 = b $$ We transpose both sides of the equation to get $$A_1^T \\cdot P^T = b^T$$ This is on standard form, and we can solve it using scipy.linalg.solve."
   ]
  },
  {
   "cell_type": "code",
   "execution_count": 5,
   "id": "bb723a8c",
   "metadata": {},
   "outputs": [
    {
     "name": "stdout",
     "output_type": "stream",
     "text": [
      "[0.17101476 0.01140098 0.01216105 0.01297179 0.01383657 0.01475901\n",
      " 0.01574294 0.01679247 0.01791197 0.0191061  0.02037984 0.0217385\n",
      " 0.02318773 0.02473358 0.02638249 0.02814132 0.03001741 0.03201857\n",
      " 0.03415314 0.03643002 0.03885868 0.03004828 0.02928821 0.02847748\n",
      " 0.02761269 0.02669025 0.02570632 0.02465679 0.02353729 0.02234316\n",
      " 0.02106942 0.01971076 0.01826153 0.01671568 0.01506677 0.01330794\n",
      " 0.01143185 0.00943069 0.00729612 0.00501925 0.00259058]\n"
     ]
    }
   ],
   "source": [
    "# Replace first column with 1's in the A-matrix to get A1\n",
    "A[:,0] = 1\n",
    "b = np.zeros(41)\n",
    "b[0] = 1\n",
    "# b = np.array([b])\n",
    "\n",
    "# print(At)\n",
    "PT = scipy.linalg.solve(np.transpose(A), b.T)\n",
    "P = PT.T\n",
    "print(P)\n",
    "# print(f\"row 0 = \\n{A[0]}\")\n",
    "# print(f\"row 20 = \\n{A[20]}\")\n",
    "# print(f\"row 40 = \\n{A[-1]}\")"
   ]
  },
  {
   "cell_type": "code",
   "execution_count": 6,
   "id": "d545a91c",
   "metadata": {},
   "outputs": [
    {
     "name": "stdout",
     "output_type": "stream",
     "text": [
      "Average time we are not able to produce product 2 = 17.10 % of the time\n"
     ]
    }
   ],
   "source": [
    "ave_time_no_prod = P[0]\n",
    "print(f\"Average time we are not able to produce product 2 = {ave_time_no_prod*100:.2f} % of the time\")"
   ]
  },
  {
   "cell_type": "markdown",
   "id": "b9242e2f",
   "metadata": {},
   "source": [
    "#### c) "
   ]
  },
  {
   "cell_type": "markdown",
   "id": "8a63cda7",
   "metadata": {},
   "source": [
    "For a stock-out situation to occur, we will have 0 parts left and have a customer that wants a unit. "
   ]
  },
  {
   "cell_type": "code",
   "execution_count": 7,
   "id": "9e69fae2",
   "metadata": {},
   "outputs": [
    {
     "name": "stdout",
     "output_type": "stream",
     "text": [
      "A stock-out situation will occur 0.86 [unit???]\n"
     ]
    }
   ],
   "source": [
    "stock_out = la*P[0]\n",
    "print(f\"A stock-out situation will occur {stock_out:.2f} [unit???]\")"
   ]
  },
  {
   "cell_type": "markdown",
   "id": "26813fa6",
   "metadata": {},
   "source": [
    "#### d) "
   ]
  },
  {
   "cell_type": "code",
   "execution_count": 8,
   "id": "6921a5d9",
   "metadata": {},
   "outputs": [
    {
     "name": "stdout",
     "output_type": "stream",
     "text": [
      "Average holding cost = 32.54\n",
      "Average shipping cost = 25.00\n",
      "Lost production cost = 39.33\n"
     ]
    }
   ],
   "source": [
    "# Usikker på disse, må høre med studass\n",
    "holding_cost = sum(P*range(41)*cH)\n",
    "print(f\"Average holding cost = {holding_cost:.2f}\")\n",
    "shipping_cost = cF*(la/Q)\n",
    "print(f\"Average shipping cost = {shipping_cost:.2f}\")\n",
    "lost_production_cost = cS*P[0]\n",
    "print(f\"Lost production cost = {lost_production_cost:.2f}\")"
   ]
  },
  {
   "cell_type": "markdown",
   "id": "636a68d7",
   "metadata": {},
   "source": [
    "#### e) "
   ]
  },
  {
   "cell_type": "markdown",
   "id": "5a39c9b2",
   "metadata": {},
   "source": [
    "Since we order a quantity of Q = 20 as soon as we reach r = 20, that is, in state $P_{20}$, we need to caluclate the probability that four days pass ($4\\cdot\\lambda$ = 20), given that the arrival rate i $\\mu$. Let $f_X$ be the probability desnity function of the arrival after an order, which is exponentially distributed with mean value $\\frac{1}{\\mu}$, that is, the rate is $\\mu$ (often denoted $\\lambda$ in litterature). Then we simply need to multiply the PDF with the expected delay for all values over 4 (in practice we just go up to 100 days delivery time, that is, a max delay of 96 days). We also allow fractions, i.e., that deliveries may come mid-day."
   ]
  },
  {
   "cell_type": "code",
   "execution_count": 9,
   "id": "9e0a48c3",
   "metadata": {},
   "outputs": [
    {
     "name": "stdout",
     "output_type": "stream",
     "text": [
      "Average wait time in stock out situation = 0.0256\n"
     ]
    }
   ],
   "source": [
    "dist = scipy.stats.expon(mu)\n",
    "FX = lambda d: dist.pdf(d)*(d-4) # d is the number of days\n",
    "FX(5)\n",
    "ave_wait_time, err = scipy.integrate.quad(FX, 4, 100)\n",
    "print(f\"Average wait time in stock out situation = {ave_wait_time:.4f}\")"
   ]
  },
  {
   "cell_type": "markdown",
   "id": "d89ad581",
   "metadata": {},
   "source": [
    "# Task 3 "
   ]
  },
  {
   "cell_type": "code",
   "execution_count": 10,
   "id": "8e5b6ad9",
   "metadata": {},
   "outputs": [],
   "source": [
    "alpha = 3\n",
    "muG = 1"
   ]
  },
  {
   "cell_type": "markdown",
   "id": "405df6f5",
   "metadata": {},
   "source": [
    "#### a) "
   ]
  },
  {
   "cell_type": "markdown",
   "id": "d17c4a25",
   "metadata": {},
   "source": [
    "For this task, we can apply tricks shows in **7.3.4** in the compendium. The sum of k independant and identically distrbuted exponential random variables (let k=3 and we have the excact situation stated in the problem description) is Erlang-k distibuted. We then think of the delivery process as a 3-stage process where the supplier completes the delivery task in 3 subtasks where each subtask has a gamma distributed completion time with shape parameter $\\alpha = 3$ and intensity parameter $\\mu_G = 1$. We can model this by adding 2 intermediate states in the transition diagram."
   ]
  },
  {
   "cell_type": "markdown",
   "id": "c20f7fad",
   "metadata": {},
   "source": [
    "**Markov state transition diagram**"
   ]
  },
  {
   "cell_type": "markdown",
   "id": "f9320f27",
   "metadata": {},
   "source": [
    "![title](Markov_Task3a.jpg)"
   ]
  },
  {
   "cell_type": "markdown",
   "id": "d6e41b36",
   "metadata": {},
   "source": [
    "As described on page 103, we need to convert the $j_l$ (i.e, $0_1, 0_2, 0_3, 1_1, ...) notation to a normal index regime, such that we can continue with matrix operations to solve the problem. We apply eq. **7.26:** $$ INDEX(j,l) = kj + l$$"
   ]
  },
  {
   "cell_type": "code",
   "execution_count": 12,
   "id": "5310a4d5",
   "metadata": {},
   "outputs": [],
   "source": [
    "k = 3\n",
    "def index(j, l):\n",
    "    return k*j + l"
   ]
  },
  {
   "cell_type": "markdown",
   "id": "87a88c0a",
   "metadata": {},
   "source": [
    "We can now calculate the coefficients of our $A$-matrix using equation **7.25**. Keep in mind that $\\mu$ and $\\lambda$ is reversed compared to the equation. The resulting matrix size has grown from 41 times 41 to 41k times 41k, where k = 3."
   ]
  },
  {
   "cell_type": "code",
   "execution_count": 28,
   "id": "cdbf429a",
   "metadata": {},
   "outputs": [],
   "source": [
    "N = 40\n",
    "num_rows = k*(N+1)\n",
    "num_cols = num_rows\n",
    "A = np.zeros((num_rows, num_cols))\n",
    "\n",
    "# We now repeat 2.a) with using the indexing method "
   ]
  },
  {
   "cell_type": "code",
   "execution_count": 29,
   "id": "405b6409",
   "metadata": {},
   "outputs": [
    {
     "name": "stdout",
     "output_type": "stream",
     "text": [
      "[[-1.  1.  0. ...  0.  0.  0.]\n",
      " [ 0. -1.  1. ...  0.  0.  0.]\n",
      " [ 0.  0. -1. ...  0.  0.  0.]\n",
      " ...\n",
      " [ 0.  0.  0. ... -5.  0.  0.]\n",
      " [ 0.  0.  0. ...  0. -5.  0.]\n",
      " [ 0.  0.  0. ...  0.  0. -5.]]\n"
     ]
    }
   ],
   "source": [
    "# Set arrival rates\n",
    "for j in range(r + 1): # j represents main states\n",
    "    for l in range(k): # l represents substage\n",
    "        ind_current = index(j,l)\n",
    "        if l == 2:\n",
    "            ind_to = index(j + Q, 0) # Jump Q (20) stages since we have an arrival\n",
    "        else:\n",
    "            ind_to = index(j, l + 1) # Go to the next subtask\n",
    "        A[ind_current, ind_to] = muG\n",
    "# Set demand rate\n",
    "for j in range(1, 41): # j represents main states\n",
    "    for l in range(k): # l represents substage\n",
    "        ind_current = index(j, l)\n",
    "        ind_to = index(j-1, l)\n",
    "        A[ind_current, ind_to] = la \n",
    "        \n",
    "# Set diagonals such that each row equals 0\n",
    "for i in range(num_rows):\n",
    "    for j in range(num_cols):\n",
    "        if i == j:\n",
    "            diag_val = -np.sum(A[i])\n",
    "            A[i,j] = diag_val\n",
    "print(A)\n"
   ]
  },
  {
   "cell_type": "markdown",
   "id": "ce3dd860",
   "metadata": {},
   "source": [
    "Now that we have the $A$-matrix, we apply the same procedure as in task 2."
   ]
  },
  {
   "cell_type": "code",
   "execution_count": 30,
   "id": "8d4f9cf2",
   "metadata": {
    "scrolled": true
   },
   "outputs": [
    {
     "name": "stdout",
     "output_type": "stream",
     "text": [
      "[ 0.0059224   0.02566374  0.06021109  0.00118448  0.00394827  0.00690947\n",
      "  0.00142138  0.00450103  0.00750171  0.00170565  0.00511696  0.00810185\n",
      "  0.00204678  0.00579922  0.00869882  0.00245614  0.0065497   0.00927875\n",
      "  0.00294737  0.00736842  0.00982455  0.00353684  0.00825263  0.01031578\n",
      "  0.00424421  0.00919578  0.01072841  0.00509305  0.0101861   0.01103494\n",
      "  0.00611166  0.01120471  0.01120471  0.00733399  0.01222332  0.01120471\n",
      "  0.00880079  0.01320118  0.01100099  0.01056095  0.01408126  0.01056095\n",
      "  0.01267314  0.01478533  0.00985688  0.01520776  0.01520776  0.0088712\n",
      "  0.01824932  0.01520776  0.00760388  0.02189918  0.01459945  0.00608311\n",
      "  0.02627902  0.01313951  0.00437984  0.03153482  0.01051161  0.0026279\n",
      "  0.03784178  0.00630696  0.00105116  0.03336792 -0.         -0.\n",
      "  0.03198603 -0.         -0.          0.03048568 -0.         -0.\n",
      "  0.02886532 -0.         -0.          0.02712555 -0.         -0.\n",
      "  0.0252698  -0.         -0.          0.02330489 -0.         -0.\n",
      "  0.02124173 -0.         -0.          0.01909605 -0.         -0.\n",
      "  0.01688906 -0.         -0.          0.01464812 -0.         -0.\n",
      "  0.01240718 -0.         -0.          0.01020698 -0.         -0.\n",
      "  0.00809479 -0.         -0.          0.00612342 -0.         -0.\n",
      "  0.00434918 -0.         -0.          0.0028284  -0.         -0.\n",
      "  0.00161178 -0.         -0.          0.00073581 -0.         -0.\n",
      "  0.00021023 -0.         -0.        ]\n",
      "0.9999999999999999\n"
     ]
    }
   ],
   "source": [
    "# Replace first column with 1's in the A-matrix to get A1\n",
    "A[:,0] = 1\n",
    "b = np.zeros(num_rows)\n",
    "b[0] = 1\n",
    "# b = np.array([b])\n",
    "\n",
    "# print(At)\n",
    "PT = scipy.linalg.solve(np.transpose(A), b.T)\n",
    "P = PT.T\n",
    "print(P)\n",
    "print(sum(P))"
   ]
  },
  {
   "cell_type": "markdown",
   "id": "72d04181",
   "metadata": {},
   "source": [
    "To find the probability of state 0, we summarize the relevant steady states using the index formula with j = 0 and l = 0,1 and 2"
   ]
  },
  {
   "cell_type": "code",
   "execution_count": 31,
   "id": "455255a1",
   "metadata": {},
   "outputs": [
    {
     "name": "stdout",
     "output_type": "stream",
     "text": [
      "The indexes are [0, 1, 2]\n",
      "0.09179723606063121\n"
     ]
    }
   ],
   "source": [
    "j = 0\n",
    "indexes = []\n",
    "for l in range(k):\n",
    "    indexes.append(index(j, l))\n",
    "print(f\"The indexes are {indexes}\")\n",
    "P_0s = [P[ind] for ind in indexes]\n",
    "P_0_tot = sum(P_0s)\n",
    "print(P_0_tot)"
   ]
  },
  {
   "cell_type": "code",
   "execution_count": 32,
   "id": "043cada6",
   "metadata": {},
   "outputs": [
    {
     "name": "stdout",
     "output_type": "stream",
     "text": [
      "Average time we are not able to produce product 2 = 9.18 % of the time\n"
     ]
    }
   ],
   "source": [
    "print(f\"Average time we are not able to produce product 2 = {P_0_tot*100:.2f} % of the time\")"
   ]
  },
  {
   "cell_type": "code",
   "execution_count": null,
   "id": "e1783886",
   "metadata": {},
   "outputs": [],
   "source": []
  }
 ],
 "metadata": {
  "kernelspec": {
   "display_name": "Python 3",
   "language": "python",
   "name": "python3"
  },
  "language_info": {
   "codemirror_mode": {
    "name": "ipython",
    "version": 3
   },
   "file_extension": ".py",
   "mimetype": "text/x-python",
   "name": "python",
   "nbconvert_exporter": "python",
   "pygments_lexer": "ipython3",
   "version": "3.8.8"
  }
 },
 "nbformat": 4,
 "nbformat_minor": 5
}
