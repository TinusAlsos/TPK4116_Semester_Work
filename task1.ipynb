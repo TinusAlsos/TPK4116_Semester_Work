{
 "cells": [
  {
   "cell_type": "markdown",
   "metadata": {},
   "source": [
    "# Task 1"
   ]
  },
  {
   "cell_type": "code",
   "execution_count": 1,
   "metadata": {},
   "outputs": [],
   "source": [
    "# Imports\n",
    "import pandas as pd\n",
    "import numpy as np\n",
    "from scipy.optimize import linprog\n",
    "import gurobipy as gp\n",
    "from gurobipy import GRB\n",
    "from gurobipy import LinExpr"
   ]
  },
  {
   "cell_type": "code",
   "execution_count": 2,
   "metadata": {},
   "outputs": [],
   "source": [
    "mua1 = 16\n",
    "mua2 = 8\n",
    "mub1 = 10\n",
    "mub2 = 8\n",
    "muc1 = 14\n",
    "muc2 = 6\n",
    "prod_rate = [mua1, mub1, muc1, mua2, mub2, muc2]\n",
    "p1, p2 = 10, 12"
   ]
  },
  {
   "cell_type": "code",
   "execution_count": 3,
   "metadata": {},
   "outputs": [
    {
     "name": "stdout",
     "output_type": "stream",
     "text": [
      "Set parameter Username\n",
      "Academic license - for non-commercial use only - expires 2023-08-31\n"
     ]
    }
   ],
   "source": [
    "m = gp.Model()"
   ]
  },
  {
   "cell_type": "code",
   "execution_count": 46,
   "metadata": {},
   "outputs": [
    {
     "name": "stdout",
     "output_type": "stream",
     "text": [
      "Gurobi Optimizer version 9.5.2 build v9.5.2rc0 (win64)\n",
      "Thread count: 8 physical cores, 16 logical processors, using up to 16 threads\n",
      "Optimize a model with 71 rows, 90 columns and 190 nonzeros\n",
      "Model fingerprint: 0x65b79308\n",
      "Model has 18 general constraints\n",
      "Variable types: 90 continuous, 0 integer (0 binary)\n",
      "Coefficient statistics:\n",
      "  Matrix range     [1e+00, 2e+01]\n",
      "  Objective range  [1e+01, 1e+01]\n",
      "  Bounds range     [0e+00, 0e+00]\n",
      "  RHS range        [8e+00, 8e+00]\n",
      "\n",
      "MIP start from previous solve produced solution with objective 49.2167 (0.01s)\n",
      "Loaded MIP start from previous solve with objective 49.2167\n",
      "\n",
      "Presolve removed 71 rows and 90 columns\n",
      "Presolve time: 0.00s\n",
      "Presolve: All rows and columns removed\n",
      "\n",
      "Explored 0 nodes (0 simplex iterations) in 0.01 seconds (0.00 work units)\n",
      "Thread count was 1 (of 16 available processors)\n",
      "\n",
      "Solution count 1: 49.2167 \n",
      "\n",
      "Optimal solution found (tolerance 1.00e-04)\n",
      "Best objective 4.921666666667e+01, best bound 4.921666666667e+01, gap 0.0000%\n"
     ]
    }
   ],
   "source": [
    "# Decision variables\n",
    "x = m.addVars(range(8), vtype = 'C', name = 'x', lb = 0)\n",
    "y = m.addVars(range(2), vtype = 'C', name = 'y', lb = 0)\n",
    "\n",
    "expr = LinExpr([p1, p2], [y[0], y[1]])\n",
    "m.update()\n",
    "m.setObjective(expr, GRB.MAXIMIZE)\n",
    "m.addConstr(y[0] == gp.min_([x[i] for i in range(3)]))\n",
    "m.addConstr(y[1] == gp.min_([x[i] for i in range(3,6)]))\n",
    "m.update()\n",
    "m.addConstr(x[0]*mua1 == x[1]*mub1)\n",
    "m.addConstr(x[1]*mub1 == x[2]*muc1)\n",
    "\n",
    "m.addConstr(x[3]*mua2 == x[4]*mub2)\n",
    "m.addConstr(x[4]*mub2 == x[5]*muc2)\n",
    "m.update()\n",
    "m.addConstr(sum(x[i] for i in range(3)) + x[6] + x[7] <= 8)\n",
    "m.addConstr(sum(x[i] for i in range(3,6)) <= 8)\n",
    "# m.addConstr(x[0] + x[3] <=8)\n",
    "# m.addConstr(x[1] + x[4] <=8)\n",
    "# m.addConstr(x[2] + x[5] + x[6] + x[7] <=8)\n",
    "\n",
    "\n",
    "# Test\n",
    "m.addConstr(x[0] + x[6] >= x[4])\n",
    "m.addConstr(x[0] + x[1] + x[6] + x[7] >= x[4] + x[5])\n",
    "# m.addConstr(x[1] + x[7] == x[6])\n",
    "\n",
    "m.update()\n",
    "m.optimize()"
   ]
  },
  {
   "cell_type": "code",
   "execution_count": 47,
   "metadata": {},
   "outputs": [
    {
     "name": "stdout",
     "output_type": "stream",
     "text": [
      "{0: 2.0416666666666665, 1: 3.2666666666666666, 2: 2.3333333333333335, 3: 2.4000000000000004, 4: 2.4000000000000004, 5: 3.2, 6: 0.35833333333333384, 7: 0.0}\n",
      "8\n",
      "x_1 = <gurobi.Var x[0] (value 2.0416666666666665)>\n",
      "x_2 = <gurobi.Var x[1] (value 3.2666666666666666)>\n",
      "x_3 = <gurobi.Var x[2] (value 2.3333333333333335)>\n",
      "x_4 = <gurobi.Var x[3] (value 2.4000000000000004)>\n",
      "x_5 = <gurobi.Var x[4] (value 2.4000000000000004)>\n",
      "x_6 = <gurobi.Var x[5] (value 3.2)>\n",
      "x_7 = <gurobi.Var x[6] (value 0.35833333333333384)>\n",
      "x_8 = <gurobi.Var x[7] (value 0.0)>\n"
     ]
    }
   ],
   "source": [
    "# Results\n",
    "res = m.getAttr('x', x)\n",
    "print(res)\n",
    "print(len(res))\n",
    "for i in range(8):\n",
    "    print(f\"x_{i+1} = {x[i]}\")"
   ]
  },
  {
   "cell_type": "code",
   "execution_count": 48,
   "metadata": {},
   "outputs": [
    {
     "name": "stdout",
     "output_type": "stream",
     "text": [
      "minsum1 = 7.6416666666666675\n",
      "minsum2 = 8.0\n",
      "x1 + x2 + x3 + x7 = 8.000000000000002\n"
     ]
    }
   ],
   "source": [
    "minsum1 = sum(res[i] for i in range(3))\n",
    "minsum2 = sum(res[i] for i in range(3,6))\n",
    "print(f\"minsum1 = {minsum1}\")\n",
    "print(f\"minsum2 = {minsum2}\")\n",
    "minsum3 = minsum1 + res[6]\n",
    "\n",
    "print(f\"x1 + x2 + x3 + x7 = {minsum3}\")"
   ]
  },
  {
   "cell_type": "code",
   "execution_count": 49,
   "metadata": {},
   "outputs": [
    {
     "name": "stdout",
     "output_type": "stream",
     "text": [
      "x_1 = 2.042\n",
      "x_2 = 3.267\n",
      "x_3 = 2.333\n",
      "x_4 = 2.4\n",
      "x_5 = 2.4\n",
      "x_6 = 3.2\n",
      "x_7 = 0.358\n",
      "x_8 = 0\n",
      "sum1 = 7.6419999999999995\n",
      "sum2 = 8.0\n",
      "7.999999999999999\n"
     ]
    }
   ],
   "source": [
    "z = [2.042, 3.267, 2.333, 2.4, 2.4, 3.2, .358, 0]\n",
    "for i in range(len(z)):\n",
    "    print(f\"x_{i+1} = {z[i]}\")\n",
    "    \n",
    "sum1 = np.sum([z[i] for i in range(3)])\n",
    "sum2 = np.sum([z[i] for i in range(3,6)])\n",
    "print(f\"sum1 = {sum1}\")\n",
    "print(f\"sum2 = {sum2}\")\n",
    "print(sum1 + z[6])"
   ]
  },
  {
   "cell_type": "code",
   "execution_count": null,
   "metadata": {},
   "outputs": [],
   "source": []
  },
  {
   "cell_type": "code",
   "execution_count": null,
   "metadata": {},
   "outputs": [],
   "source": []
  }
 ],
 "metadata": {
  "kernelspec": {
   "display_name": "Python 3",
   "language": "python",
   "name": "python3"
  },
  "language_info": {
   "codemirror_mode": {
    "name": "ipython",
    "version": 3
   },
   "file_extension": ".py",
   "mimetype": "text/x-python",
   "name": "python",
   "nbconvert_exporter": "python",
   "pygments_lexer": "ipython3",
   "version": "3.8.8"
  }
 },
 "nbformat": 4,
 "nbformat_minor": 2
}
