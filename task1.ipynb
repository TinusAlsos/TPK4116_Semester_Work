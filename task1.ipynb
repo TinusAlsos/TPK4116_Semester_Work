{
 "cells": [
  {
   "cell_type": "markdown",
   "metadata": {},
   "source": [
    "# TPK4116 - Value Chain Analysis"
   ]
  },
  {
   "cell_type": "markdown",
   "metadata": {},
   "source": [
    "# Semester Assignemt "
   ]
  },
  {
   "cell_type": "markdown",
   "metadata": {},
   "source": [
    "| Contributors |\n",
    "| :- |\n",
    "| Ida Bjørn-Hansen Ahlsand |\n",
    "| Tinus Alsos |\n",
    "| Thomas Willums | "
   ]
  },
  {
   "cell_type": "markdown",
   "metadata": {},
   "source": [
    "## Problem 1 (Python)"
   ]
  },
  {
   "cell_type": "markdown",
   "metadata": {},
   "source": [
    "### a) "
   ]
  },
  {
   "cell_type": "markdown",
   "metadata": {},
   "source": [
    "First of all, we decide the six most obvious decision variables, representing hours of production for product 1 and 2 for machines A, B and C. Let H/d be hours per day and P1 and P2 denote product 1 and 2 respectively."
   ]
  },
  {
   "cell_type": "markdown",
   "metadata": {},
   "source": [
    "| Decision variable | Desciption | Constraint |\n",
    "| :-: | :- | --- |\n",
    "| $x_1$ | H/d on machine A to produce P1| $\\geq 0$ |\n",
    "| $x_2$ | H/d on machine B to produce P1| $\\geq 0$ |\n",
    "| $x_3$ | H/d on machine C to produce P1| $\\geq 0$ |\n",
    "| $x_4$ | H/d on machine A to produce P2| $\\geq 0$ |\n",
    "| $x_5$ | H/d on machine B to produce P2| $\\geq 0$ |\n",
    "| $x_6$ | H/d on machine C to produce P2| $\\geq 0$ |"
   ]
  },
  {
   "cell_type": "markdown",
   "metadata": {},
   "source": [
    "Due to assumption that we for each product process a batch of units for each machine one day, we have that the total produced per prodct on each machine for each must be equal. That is, for P1, we have:\n",
    "\n",
    "$$ \\mu_{A1}x_1 = \\mu_{B1}x_2 = \\mu_{C1}x_3, $$\n",
    "\n",
    "and for P2 we have:\n",
    "\n",
    "$$ \\mu_{A2}x_4 = \\mu_{B2}x_5 = \\mu_{C2}x_6. $$"
   ]
  },
  {
   "cell_type": "markdown",
   "metadata": {},
   "source": [
    "Since our objective is to maximize profit, we simply maximize profit per product times number of items produced per product type. That is, the objective function is:\n",
    "\n",
    "$$ Maximize: Z = p_1\\mu_{A1}x_1 + p_2\\mu_{A2}x_4. $$\n",
    "\n",
    "Obviously, we could substitute the $x's$ and $\\mu's$ by the above equalities (constraints)."
   ]
  },
  {
   "cell_type": "markdown",
   "metadata": {},
   "source": [
    "Now there are two different categories of constraints to handle, namely the sequence of machines, and the possible production time during one day (8 hours)."
   ]
  },
  {
   "cell_type": "markdown",
   "metadata": {},
   "source": [
    "**Sequence:**\n",
    "P1 has sequence A - B - C while P2 has sequence B - C - A. \n",
    "* When we start production for P1, we begin by utilizing machine A. After P1 is finished with A, it will need to use machine B. Machine B could be occupied by P2, therefore, it is a potential wait time for P1 to use machine B which we denote $x_7$. After P1 is finished with B, it will need to use machine C. Machine C could be occupied by P2, therefore, it is a potential wait time for  P1 to use machine C which we denote $x_8$.\n",
    "* When we start production for P2, we begin by utilizing machine B. After P2 is finished with B, it will need to use machine C. Machine C could be occupied by P1, therefore, it is a potential wait time for P2 to use machine C which we denote $x_9$. After P2 is finished with C, it will need to use machine A. Machine A could be occupied by P1, therefore, it is a potential wait time for P2 to use machine B which we denote $x_{10}$."
   ]
  },
  {
   "cell_type": "markdown",
   "metadata": {},
   "source": [
    "Note that the profits and and production rates are generally balanced, so it is unlikely that $x_i, i = 8, 9, 10$ will be significant. Also note that in theory, we could add slack variables for P1 to wait for machine A and for P2 to wait for machine B."
   ]
  },
  {
   "cell_type": "markdown",
   "metadata": {},
   "source": [
    "Adding these (slack) variables as decision variables, we get the following table:"
   ]
  },
  {
   "cell_type": "markdown",
   "metadata": {},
   "source": [
    "\n",
    "| Decision variable | Desciption | Constraint |\n",
    "| :-: | :- | --- |\n",
    "| $x_1$ | H/d on machine A to produce P1| $\\geq 0$ |\n",
    "| $x_2$ | H/d on machine B to produce P1| $\\geq 0$ |\n",
    "| $x_3$ | H/d on machine C to produce P1| $\\geq 0$ |\n",
    "| $x_4$ | H/d on machine A to produce P2| $\\geq 0$ |\n",
    "| $x_5$ | H/d on machine B to produce P2| $\\geq 0$ |\n",
    "| $x_6$ | H/d on machine C to produce P2| $\\geq 0$ |\n",
    "| $x_7$ | H/d P1 needs before P2 is finished using machine B| $\\geq 0$ |\n",
    "| $x_8$ | H/d P1 needs before P2 is finished using machine C| $\\geq 0$ |\n",
    "| $x_9$ | H/d P2 needs before P1 is finished using machine C| $\\geq 0$ |\n",
    "| $x_{10}$ |H/d P2 needs before P1 is finished using machine A| $\\geq 0$ |"
   ]
  },
  {
   "cell_type": "markdown",
   "metadata": {},
   "source": [
    "With the slack variables introduced, we can formalize the limitzations posed by the sequence. We use the first constraint in the first bullet point above as an example."
   ]
  },
  {
   "cell_type": "markdown",
   "metadata": {},
   "source": [
    "* When we start production for P1, we begin by utilizing machine A. After P1 is finished with A, it will need to use machine B. Machine B could be occupied by P2, therefore, it is a potential wait time for P1 to use machine B which we denote  𝑥7."
   ]
  },
  {
   "cell_type": "markdown",
   "metadata": {},
   "source": [
    "This means that $$x_1 + x_7 \\geq x_4,$$ that is, the time before P1 can use machine B to produce (which it will do after it has produced on machine A and potentially waited) must be greater than or equal to the time P2 spend to produce on machine B. We assume that both machines will begin producing instantly."
   ]
  },
  {
   "cell_type": "markdown",
   "metadata": {},
   "source": [
    "Doing the same for the next sequence constraints, we get:\n",
    "$$x_1 + x_2 + x_7 + x_8 \\geq x_5 + x_6.$$"
   ]
  },
  {
   "cell_type": "markdown",
   "metadata": {},
   "source": [
    "Now, the last constraints we need to add are the time limits each day. Clearly, we can spend a maximum of 8 hours producing (including wait time) for each product. For P1, we get:\n",
    "$$ x_1 + x_2 + x_3 + x_7 + x_8 \\leq 8 $$\n",
    "\n",
    "and for P2, we get:\n",
    "\n",
    "$$ x_4 + x_5 + x_6 + x_9 + x_{10} \\leq 8 $$"
   ]
  },
  {
   "cell_type": "markdown",
   "metadata": {},
   "source": [
    "Note that we can safely substitue $\\leq$ with $=$ since we do not have any costs, the proftits are positive, and we are free to produce fractions (we have not added a constraint that the $x's$ multiplied by respective production rates, $\\mu's$ need to result in integers). That is, producing more will always be benefitial."
   ]
  },
  {
   "cell_type": "markdown",
   "metadata": {},
   "source": [
    "***"
   ]
  },
  {
   "cell_type": "markdown",
   "metadata": {},
   "source": [
    "#### b) "
   ]
  },
  {
   "cell_type": "markdown",
   "metadata": {},
   "source": [
    "To find the optimal solution, we utilize Gurobi, a state-of-the-art mathematical optimization software for LP-problems."
   ]
  },
  {
   "cell_type": "code",
   "execution_count": 1,
   "metadata": {},
   "outputs": [],
   "source": [
    "# Imports\n",
    "import numpy as np\n",
    "import pandas as pd\n",
    "import gurobipy as gp\n",
    "from gurobipy import GRB\n",
    "from gurobipy import LinExpr"
   ]
  },
  {
   "cell_type": "code",
   "execution_count": 2,
   "metadata": {},
   "outputs": [],
   "source": [
    "# data\n",
    "mua1 = 16\n",
    "mua2 = 8\n",
    "mub1 = 10\n",
    "mub2 = 8\n",
    "muc1 = 14\n",
    "muc2 = 6\n",
    "p1, p2 = 10, 12"
   ]
  },
  {
   "cell_type": "code",
   "execution_count": 3,
   "metadata": {},
   "outputs": [
    {
     "name": "stdout",
     "output_type": "stream",
     "text": [
      "Set parameter Username\n",
      "Academic license - for non-commercial use only - expires 2023-08-31\n",
      "Gurobi Optimizer version 9.5.2 build v9.5.2rc0 (win64)\n",
      "Thread count: 8 physical cores, 16 logical processors, using up to 16 threads\n",
      "Optimize a model with 8 rows, 10 columns and 27 nonzeros\n",
      "Model fingerprint: 0xdf0b067a\n",
      "Coefficient statistics:\n",
      "  Matrix range     [1e+00, 2e+01]\n",
      "  Objective range  [1e+01, 1e+01]\n",
      "  Bounds range     [0e+00, 0e+00]\n",
      "  RHS range        [8e+00, 8e+00]\n",
      "Presolve removed 5 rows and 6 columns\n",
      "Presolve time: 0.02s\n",
      "Presolved: 3 rows, 4 columns, 10 nonzeros\n",
      "\n",
      "Iteration    Objective       Primal Inf.    Dual Inf.      Time\n",
      "       0    5.0174046e+01   7.633588e-02   0.000000e+00      0s\n",
      "       1    4.9216667e+01   0.000000e+00   0.000000e+00      0s\n",
      "\n",
      "Solved in 1 iterations and 0.03 seconds (0.00 work units)\n",
      "Optimal objective  4.921666667e+01\n"
     ]
    }
   ],
   "source": [
    "m = gp.Model() # Initiate empty model\n",
    "\n",
    "# Decision variables\n",
    "x = m.addVars(range(1, 11), vtype = 'C', name = 'x', lb = 0) \n",
    "# initiate x's with index from 1 to 10 with lower bound 0 and type continous\n",
    "\n",
    "Z = LinExpr([p1, p2], [x[1], x[4]]) # Objective function\n",
    "m.setObjective(Z, GRB.MAXIMIZE) # Mazimize Z\n",
    "\n",
    "# Equal batch sizes for P1\n",
    "m.addConstr(x[1]*mua1 == x[2]*mub1) \n",
    "m.addConstr(x[2]*mub1 == x[3]*muc1)\n",
    "\n",
    "# Equal batch sizes for P2\n",
    "m.addConstr(x[4]*mua2 == x[5]*mub2)\n",
    "m.addConstr(x[5]*mub2 == x[6]*muc2)\n",
    "\n",
    "m.addConstr(sum(x[i] for i in range(1, 4)) + x[7] + x[8] <= 8)\n",
    "m.addConstr(sum(x[i] for i in range(4,7)) + x[9] + x[10] <= 8)\n",
    "\n",
    "# Sequence constraints\n",
    "m.addConstr(x[1] + x[7] >= x[4])\n",
    "m.addConstr(x[1] + x[2] + x[7] + x[8] >= x[5] + x[6])\n",
    "\n",
    "m.update()\n",
    "m.optimize()"
   ]
  },
  {
   "cell_type": "code",
   "execution_count": 4,
   "metadata": {},
   "outputs": [
    {
     "data": {
      "text/html": [
       "<div>\n",
       "<style scoped>\n",
       "    .dataframe tbody tr th:only-of-type {\n",
       "        vertical-align: middle;\n",
       "    }\n",
       "\n",
       "    .dataframe tbody tr th {\n",
       "        vertical-align: top;\n",
       "    }\n",
       "\n",
       "    .dataframe thead th {\n",
       "        text-align: right;\n",
       "    }\n",
       "</style>\n",
       "<table border=\"1\" class=\"dataframe\">\n",
       "  <thead>\n",
       "    <tr style=\"text-align: right;\">\n",
       "      <th></th>\n",
       "      <th>0</th>\n",
       "    </tr>\n",
       "    <tr>\n",
       "      <th>Decision Variables</th>\n",
       "      <th></th>\n",
       "    </tr>\n",
       "  </thead>\n",
       "  <tbody>\n",
       "    <tr>\n",
       "      <th>x_1</th>\n",
       "      <td>2.041667</td>\n",
       "    </tr>\n",
       "    <tr>\n",
       "      <th>x_2</th>\n",
       "      <td>3.266667</td>\n",
       "    </tr>\n",
       "    <tr>\n",
       "      <th>x_3</th>\n",
       "      <td>2.333333</td>\n",
       "    </tr>\n",
       "    <tr>\n",
       "      <th>x_4</th>\n",
       "      <td>2.400000</td>\n",
       "    </tr>\n",
       "    <tr>\n",
       "      <th>x_5</th>\n",
       "      <td>2.400000</td>\n",
       "    </tr>\n",
       "    <tr>\n",
       "      <th>x_6</th>\n",
       "      <td>3.200000</td>\n",
       "    </tr>\n",
       "    <tr>\n",
       "      <th>x_7</th>\n",
       "      <td>0.358333</td>\n",
       "    </tr>\n",
       "    <tr>\n",
       "      <th>x_8</th>\n",
       "      <td>0.000000</td>\n",
       "    </tr>\n",
       "    <tr>\n",
       "      <th>x_9</th>\n",
       "      <td>0.000000</td>\n",
       "    </tr>\n",
       "    <tr>\n",
       "      <th>x_10</th>\n",
       "      <td>0.000000</td>\n",
       "    </tr>\n",
       "  </tbody>\n",
       "</table>\n",
       "</div>"
      ],
      "text/plain": [
       "                           0\n",
       "Decision Variables          \n",
       "x_1                 2.041667\n",
       "x_2                 3.266667\n",
       "x_3                 2.333333\n",
       "x_4                 2.400000\n",
       "x_5                 2.400000\n",
       "x_6                 3.200000\n",
       "x_7                 0.358333\n",
       "x_8                 0.000000\n",
       "x_9                 0.000000\n",
       "x_10                0.000000"
      ]
     },
     "metadata": {},
     "output_type": "display_data"
    }
   ],
   "source": [
    "# Results\n",
    "res = m.getAttr('x', x)\n",
    "res_dic = {}\n",
    "for i in range(1, 11):\n",
    "    res_dic['x_' + str(i)] = x[i].x\n",
    "df_res = pd.DataFrame.from_dict(res_dic, orient = 'index')\n",
    "df_res.index.name = 'Decision Variables'\n",
    "display(df_res)"
   ]
  },
  {
   "cell_type": "markdown",
   "metadata": {},
   "source": [
    "***"
   ]
  },
  {
   "cell_type": "markdown",
   "metadata": {},
   "source": [
    "#### c) "
   ]
  },
  {
   "cell_type": "markdown",
   "metadata": {},
   "source": [
    "Shadow prices is the change per infitesimal unit of the contraint. In our case, the shadow price is how much more profit we would get each hours (or any small time unit) we add to the workday. We have three cases which we can calculated shadow prices for. See excel version for shadow prices."
   ]
  }
 ],
 "metadata": {
  "kernelspec": {
   "display_name": "Python 3",
   "language": "python",
   "name": "python3"
  },
  "language_info": {
   "codemirror_mode": {
    "name": "ipython",
    "version": 3
   },
   "file_extension": ".py",
   "mimetype": "text/x-python",
   "name": "python",
   "nbconvert_exporter": "python",
   "pygments_lexer": "ipython3",
   "version": "3.8.8"
  }
 },
 "nbformat": 4,
 "nbformat_minor": 2
}
