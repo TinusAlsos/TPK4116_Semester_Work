{
 "cells": [
  {
   "cell_type": "markdown",
   "id": "0db5cac1",
   "metadata": {},
   "source": [
    "## Problem 2"
   ]
  },
  {
   "cell_type": "code",
   "execution_count": 1,
   "id": "80c89145",
   "metadata": {},
   "outputs": [],
   "source": [
    "# Imports\n",
    "import numpy as np\n",
    "import scipy\n",
    "import math\n",
    "import matplotlib.pyplot as plt\n",
    "import statistics\n",
    "import pandas as pd\n",
    "from IPython.display import Image"
   ]
  },
  {
   "cell_type": "code",
   "execution_count": 2,
   "id": "b89c7f53",
   "metadata": {},
   "outputs": [],
   "source": [
    "# data\n",
    "la = 5 # lambda, Demand rate [per day]\n",
    "mu = 1/3 # arrival rate [per day]\n",
    "r = 20 # reorder point\n",
    "Q = 20 # Order quantity\n",
    "cF = 100 # Fixed cost per order\n",
    "cH = 2 # Holding cost per item per day\n",
    "cS = 230 # Stock-out cost per day\n",
    "L = 1/mu"
   ]
  },
  {
   "cell_type": "markdown",
   "id": "0d24d867",
   "metadata": {},
   "source": [
    "#### a) "
   ]
  },
  {
   "cell_type": "markdown",
   "id": "efda81c6",
   "metadata": {},
   "source": [
    "![Markov Transition Diagram](Markov_Task2a.jpg)"
   ]
  },
  {
   "cell_type": "code",
   "execution_count": 3,
   "id": "3b63539a",
   "metadata": {},
   "outputs": [
    {
     "name": "stdout",
     "output_type": "stream",
     "text": [
      "row 0 = \n",
      "[-0.33333333  0.          0.          0.          0.          0.\n",
      "  0.          0.          0.          0.          0.          0.\n",
      "  0.          0.          0.          0.          0.          0.\n",
      "  0.          0.          0.33333333  0.          0.          0.\n",
      "  0.          0.          0.          0.          0.          0.\n",
      "  0.          0.          0.          0.          0.          0.\n",
      "  0.          0.          0.          0.          0.        ]\n",
      "row 1 = \n",
      "[ 5.         -5.33333333  0.          0.          0.          0.\n",
      "  0.          0.          0.          0.          0.          0.\n",
      "  0.          0.          0.          0.          0.          0.\n",
      "  0.          0.          0.          0.33333333  0.          0.\n",
      "  0.          0.          0.          0.          0.          0.\n",
      "  0.          0.          0.          0.          0.          0.\n",
      "  0.          0.          0.          0.          0.        ]\n",
      "row 20 = \n",
      "[ 0.          0.          0.          0.          0.          0.\n",
      "  0.          0.          0.          0.          0.          0.\n",
      "  0.          0.          0.          0.          0.          0.\n",
      "  0.          5.         -5.33333333  0.          0.          0.\n",
      "  0.          0.          0.          0.          0.          0.\n",
      "  0.          0.          0.          0.          0.          0.\n",
      "  0.          0.          0.          0.          0.33333333]\n",
      "row 40 = \n",
      "[ 0.  0.  0.  0.  0.  0.  0.  0.  0.  0.  0.  0.  0.  0.  0.  0.  0.  0.\n",
      "  0.  0.  0.  0.  0.  0.  0.  0.  0.  0.  0.  0.  0.  0.  0.  0.  0.  0.\n",
      "  0.  0.  0.  5. -5.]\n"
     ]
    }
   ],
   "source": [
    "s0 = 0 #Initial state\n",
    "A = np.zeros((41, 41))\n",
    "# Set arrival rate\n",
    "for i in range(r + 1):\n",
    "    A[i, i + Q] = mu\n",
    "# Set demand rate \n",
    "for i in range(1, 41):\n",
    "    A[i, i - 1] = la # ???\n",
    "# Set diagonals such that each row equals 0\n",
    "for i in range(41):\n",
    "    for j in range(41):\n",
    "        if i == j:\n",
    "            diag_val = -np.sum(A[i])\n",
    "            A[i,j] = diag_val\n",
    "print(f\"row 0 = \\n{A[0]}\")\n",
    "print(f\"row 1 = \\n{A[1]}\")\n",
    "\n",
    "print(f\"row 20 = \\n{A[20]}\")\n",
    "print(f\"row 40 = \\n{A[-1]}\")"
   ]
  },
  {
   "cell_type": "code",
   "execution_count": 4,
   "id": "0f4b68e5",
   "metadata": {},
   "outputs": [],
   "source": [
    "# print(\"A = \")\n",
    "# for i in range(41):\n",
    "#     string = \"\"\n",
    "#     for j in range(41):\n",
    "#         if A[i,j] == 0:\n",
    "#             string += \" 0 \"\n",
    "#         else:\n",
    "#             string += \" \" + str(A[i,j])[:3]\n",
    "#     print(string)\n",
    "#     print(\"\")\n",
    "    "
   ]
  },
  {
   "cell_type": "markdown",
   "id": "6b0577b8",
   "metadata": {},
   "source": [
    "#### b) "
   ]
  },
  {
   "cell_type": "markdown",
   "id": "0554889b",
   "metadata": {},
   "source": [
    "To find the steady state solution, we follow the procedure in chapter **7.1.3**. We have the $A$ matrix, and substitute the first column with 1's to get $A_1$. $b$ is simply a column vector with 0s in all places but the first. In matrix form, we have $$P \\cdot A_1 = b $$ We transpose both sides of the equation to get $$A_1^T \\cdot P^T = b^T$$ This is on standard form, and we can solve it using scipy.linalg.solve."
   ]
  },
  {
   "cell_type": "code",
   "execution_count": 5,
   "id": "bb723a8c",
   "metadata": {},
   "outputs": [
    {
     "name": "stdout",
     "output_type": "stream",
     "text": [
      "[0.17101476 0.01140098 0.01216105 0.01297179 0.01383657 0.01475901\n",
      " 0.01574294 0.01679247 0.01791197 0.0191061  0.02037984 0.0217385\n",
      " 0.02318773 0.02473358 0.02638249 0.02814132 0.03001741 0.03201857\n",
      " 0.03415314 0.03643002 0.03885868 0.03004828 0.02928821 0.02847748\n",
      " 0.02761269 0.02669025 0.02570632 0.02465679 0.02353729 0.02234316\n",
      " 0.02106942 0.01971076 0.01826153 0.01671568 0.01506677 0.01330794\n",
      " 0.01143185 0.00943069 0.00729612 0.00501925 0.00259058]\n"
     ]
    }
   ],
   "source": [
    "# Replace first column with 1's in the A-matrix to get A1\n",
    "A[:,0] = 1\n",
    "b = np.zeros(41)\n",
    "b[0] = 1\n",
    "# b = np.array([b])\n",
    "\n",
    "# print(At)\n",
    "PT = scipy.linalg.solve(np.transpose(A), b.T)\n",
    "P = PT.T\n",
    "print(P)\n",
    "# print(f\"row 0 = \\n{A[0]}\")\n",
    "# print(f\"row 20 = \\n{A[20]}\")\n",
    "# print(f\"row 40 = \\n{A[-1]}\")"
   ]
  },
  {
   "cell_type": "code",
   "execution_count": 6,
   "id": "d545a91c",
   "metadata": {},
   "outputs": [
    {
     "name": "stdout",
     "output_type": "stream",
     "text": [
      "Average time we are not able to produce product 2 = 17.10 % of the time\n"
     ]
    }
   ],
   "source": [
    "ave_time_no_prod = P[0]\n",
    "print(f\"Average time we are not able to produce product 2 = {ave_time_no_prod*100:.2f} % of the time\")"
   ]
  },
  {
   "cell_type": "markdown",
   "id": "b9242e2f",
   "metadata": {},
   "source": [
    "#### c) "
   ]
  },
  {
   "cell_type": "markdown",
   "id": "8a63cda7",
   "metadata": {},
   "source": [
    "For a stock-out situation to occur, we will have 0 parts left and have a customer that wants a unit. "
   ]
  },
  {
   "cell_type": "code",
   "execution_count": 7,
   "id": "9e69fae2",
   "metadata": {},
   "outputs": [
    {
     "name": "stdout",
     "output_type": "stream",
     "text": [
      "A stock-out situation will occur 0.86 [unit???]\n"
     ]
    }
   ],
   "source": [
    "stock_out = la*P[0]\n",
    "print(f\"A stock-out situation will occur {stock_out:.2f} [unit???]\")"
   ]
  },
  {
   "cell_type": "markdown",
   "id": "26813fa6",
   "metadata": {},
   "source": [
    "#### d) "
   ]
  },
  {
   "cell_type": "code",
   "execution_count": 8,
   "id": "6921a5d9",
   "metadata": {},
   "outputs": [
    {
     "name": "stdout",
     "output_type": "stream",
     "text": [
      "Average holding cost = 32.54\n",
      "Average shipping cost = 25.00\n",
      "Lost production cost = 39.33\n"
     ]
    }
   ],
   "source": [
    "# Usikker på disse, må høre med studass\n",
    "holding_cost = sum(P*[i for i in range(41)]*cH)\n",
    "print(f\"Average holding cost = {holding_cost:.2f}\")\n",
    "shipping_cost = cF*(la/Q)\n",
    "print(f\"Average shipping cost = {shipping_cost:.2f}\")\n",
    "lost_production_cost = cS*P[0]\n",
    "print(f\"Lost production cost = {lost_production_cost:.2f}\")"
   ]
  },
  {
   "cell_type": "markdown",
   "id": "636a68d7",
   "metadata": {},
   "source": [
    "#### e) "
   ]
  },
  {
   "cell_type": "markdown",
   "id": "5a39c9b2",
   "metadata": {},
   "source": [
    "Since we order a quantity of Q = 20 as soon as we reach r = 20, that is, in state $P_{20}$, we need to caluclate the probability that four days pass ($4\\cdot\\lambda$ = 20), given that the arrival rate i $\\mu$. Let $f_X$ be the probability desnity function of the arrival after an order, which is exponentially distributed with mean value $\\frac{1}{\\mu}$, that is, the rate is $\\mu$ (often denoted $\\lambda$ in litterature). Then we simply need to multiply the PDF with the expected delay for all values over 4 (in practice we just go up to 100 days delivery time, that is, a max delay of 96 days). We also allow fractions, i.e., that deliveries may come mid-day."
   ]
  },
  {
   "cell_type": "code",
   "execution_count": 9,
   "id": "9e0a48c3",
   "metadata": {},
   "outputs": [
    {
     "name": "stdout",
     "output_type": "stream",
     "text": [
      "Average wait time in stock out situation = 0.0256\n"
     ]
    }
   ],
   "source": [
    "dist = scipy.stats.expon(mu)\n",
    "FX = lambda d: dist.pdf(d)*(d-4) # d is the number of days\n",
    "FX(5)\n",
    "ave_wait_time, err = scipy.integrate.quad(FX, 4, 100)\n",
    "print(f\"Average wait time in stock out situation = {ave_wait_time:.4f}\")"
   ]
  },
  {
   "cell_type": "markdown",
   "id": "d89ad581",
   "metadata": {},
   "source": [
    "# Task 3 "
   ]
  },
  {
   "cell_type": "code",
   "execution_count": 10,
   "id": "8e5b6ad9",
   "metadata": {},
   "outputs": [],
   "source": [
    "alpha = 3\n",
    "muG = 1"
   ]
  },
  {
   "cell_type": "markdown",
   "id": "405df6f5",
   "metadata": {},
   "source": [
    "#### a) "
   ]
  },
  {
   "cell_type": "markdown",
   "id": "d17c4a25",
   "metadata": {},
   "source": [
    "For this task, we can apply tricks shows in **7.3.4** in the compendium. The sum of k independant and identically distrbuted exponential random variables (let k=3 and we have the excact situation stated in the problem description) is Erlang-k distibuted. We then think of the delivery process as a 3-stage process where the supplier completes the delivery task in 3 subtasks where each subtask has a gamma distributed completion time with shape parameter $\\alpha = 3$ and intensity parameter $\\mu_G = 1$. We can model this by adding 2 intermediate states in the transition diagram."
   ]
  },
  {
   "cell_type": "markdown",
   "id": "c20f7fad",
   "metadata": {},
   "source": [
    "**Markov state transition diagram**"
   ]
  },
  {
   "cell_type": "markdown",
   "id": "f9320f27",
   "metadata": {},
   "source": [
    "![title](Markov_Task3a.jpg)"
   ]
  },
  {
   "cell_type": "markdown",
   "id": "d6e41b36",
   "metadata": {},
   "source": [
    "As described on page 103, we need to convert the $j_l$ (i.e, $0_1, 0_2, 0_3, 1_1, ...$) notation to a normal index regime, such that we can continue with matrix operations to solve the problem. We apply eq. **7.26:** $$ INDEX(j,l) = kj + l$$"
   ]
  },
  {
   "cell_type": "code",
   "execution_count": 11,
   "id": "5310a4d5",
   "metadata": {},
   "outputs": [],
   "source": [
    "k = 3\n",
    "def index(j, l):\n",
    "    return k*j + l"
   ]
  },
  {
   "cell_type": "markdown",
   "id": "87a88c0a",
   "metadata": {},
   "source": [
    "We can now calculate the coefficients of our $A$-matrix using equation **7.25**. Keep in mind that $\\mu$ and $\\lambda$ is reversed compared to the equation. The resulting matrix size has grown from 41 times 41 to 41k times 41k, where k = 3."
   ]
  },
  {
   "cell_type": "code",
   "execution_count": 12,
   "id": "cdbf429a",
   "metadata": {},
   "outputs": [],
   "source": [
    "N = 40\n",
    "num_rows = k*(N+1)\n",
    "num_cols = num_rows\n",
    "A = np.zeros((num_rows, num_cols))\n",
    "\n",
    "# We now repeat 2.a) with using the indexing method "
   ]
  },
  {
   "cell_type": "code",
   "execution_count": 13,
   "id": "405b6409",
   "metadata": {},
   "outputs": [],
   "source": [
    "# Set arrival rates\n",
    "for j in range(r + 1): # j represents main states\n",
    "    for l in range(k): # l represents substage\n",
    "        ind_current = index(j,l)\n",
    "        if l == 2:\n",
    "            ind_to = index(j + Q, 0) # Jump Q (20) stages since we have an arrival\n",
    "        else:\n",
    "            ind_to = index(j, l + 1) # Go to the next subtask\n",
    "        A[ind_current, ind_to] = muG\n",
    "#         print(ind_current, ind_to)\n",
    "# Set demand rate\n",
    "for j in range(1, 41): # j represents main states\n",
    "    for l in range(k): # l represents substage\n",
    "        ind_current = index(j, l)\n",
    "        ind_to = index(j-1, l)\n",
    "        A[ind_current, ind_to] = la \n",
    "#         print(ind_current, ind_to)\n",
    "\n",
    "before = []\n",
    "for i in range(num_rows):\n",
    "    before.append(np.sum(A[i]))\n",
    "    \n",
    "# Set diagonals such that each row equals 0\n",
    "for i in range(num_rows):\n",
    "    for j in range(num_cols):\n",
    "        if i == j:\n",
    "            diag_val = -np.sum(A[i])\n",
    "            A[i,j] = diag_val\n",
    "# print(A)\n",
    "after = []\n",
    "for i in range(num_rows):\n",
    "    after.append(np.sum(A[i]))\n"
   ]
  },
  {
   "cell_type": "code",
   "execution_count": 14,
   "id": "8b07b241",
   "metadata": {},
   "outputs": [
    {
     "name": "stdout",
     "output_type": "stream",
     "text": [
      "Before0 = 1.0\n",
      "After0 = 0.0\n",
      "\n",
      "Before1 = 1.0\n",
      "After1 = 0.0\n",
      "\n",
      "Before2 = 1.0\n",
      "After2 = 0.0\n",
      "\n",
      "Before3 = 6.0\n",
      "After3 = 0.0\n",
      "\n",
      "Before4 = 6.0\n",
      "After4 = 0.0\n",
      "\n",
      "Before5 = 6.0\n",
      "After5 = 0.0\n",
      "\n",
      "Before6 = 6.0\n",
      "After6 = 0.0\n",
      "\n",
      "Before7 = 6.0\n",
      "After7 = 0.0\n",
      "\n",
      "Before8 = 6.0\n",
      "After8 = 0.0\n",
      "\n",
      "Before9 = 6.0\n",
      "After9 = 0.0\n",
      "\n",
      "Before10 = 6.0\n",
      "After10 = 0.0\n",
      "\n",
      "Before11 = 6.0\n",
      "After11 = 0.0\n",
      "\n",
      "Before12 = 6.0\n",
      "After12 = 0.0\n",
      "\n",
      "Before13 = 6.0\n",
      "After13 = 0.0\n",
      "\n",
      "Before14 = 6.0\n",
      "After14 = 0.0\n",
      "\n",
      "Before15 = 6.0\n",
      "After15 = 0.0\n",
      "\n",
      "Before16 = 6.0\n",
      "After16 = 0.0\n",
      "\n",
      "Before17 = 6.0\n",
      "After17 = 0.0\n",
      "\n",
      "Before18 = 6.0\n",
      "After18 = 0.0\n",
      "\n",
      "Before19 = 6.0\n",
      "After19 = 0.0\n",
      "\n",
      "Before20 = 6.0\n",
      "After20 = 0.0\n",
      "\n",
      "Before21 = 6.0\n",
      "After21 = 0.0\n",
      "\n",
      "Before22 = 6.0\n",
      "After22 = 0.0\n",
      "\n",
      "Before23 = 6.0\n",
      "After23 = 0.0\n",
      "\n",
      "Before24 = 6.0\n",
      "After24 = 0.0\n",
      "\n",
      "Before25 = 6.0\n",
      "After25 = 0.0\n",
      "\n",
      "Before26 = 6.0\n",
      "After26 = 0.0\n",
      "\n",
      "Before27 = 6.0\n",
      "After27 = 0.0\n",
      "\n",
      "Before28 = 6.0\n",
      "After28 = 0.0\n",
      "\n",
      "Before29 = 6.0\n",
      "After29 = 0.0\n",
      "\n",
      "Before30 = 6.0\n",
      "After30 = 0.0\n",
      "\n",
      "Before31 = 6.0\n",
      "After31 = 0.0\n",
      "\n",
      "Before32 = 6.0\n",
      "After32 = 0.0\n",
      "\n",
      "Before33 = 6.0\n",
      "After33 = 0.0\n",
      "\n",
      "Before34 = 6.0\n",
      "After34 = 0.0\n",
      "\n",
      "Before35 = 6.0\n",
      "After35 = 0.0\n",
      "\n",
      "Before36 = 6.0\n",
      "After36 = 0.0\n",
      "\n",
      "Before37 = 6.0\n",
      "After37 = 0.0\n",
      "\n",
      "Before38 = 6.0\n",
      "After38 = 0.0\n",
      "\n",
      "Before39 = 6.0\n",
      "After39 = 0.0\n",
      "\n",
      "Before40 = 6.0\n",
      "After40 = 0.0\n",
      "\n",
      "Before41 = 6.0\n",
      "After41 = 0.0\n",
      "\n",
      "Before42 = 6.0\n",
      "After42 = 0.0\n",
      "\n",
      "Before43 = 6.0\n",
      "After43 = 0.0\n",
      "\n",
      "Before44 = 6.0\n",
      "After44 = 0.0\n",
      "\n",
      "Before45 = 6.0\n",
      "After45 = 0.0\n",
      "\n",
      "Before46 = 6.0\n",
      "After46 = 0.0\n",
      "\n",
      "Before47 = 6.0\n",
      "After47 = 0.0\n",
      "\n",
      "Before48 = 6.0\n",
      "After48 = 0.0\n",
      "\n",
      "Before49 = 6.0\n",
      "After49 = 0.0\n",
      "\n",
      "Before50 = 6.0\n",
      "After50 = 0.0\n",
      "\n",
      "Before51 = 6.0\n",
      "After51 = 0.0\n",
      "\n",
      "Before52 = 6.0\n",
      "After52 = 0.0\n",
      "\n",
      "Before53 = 6.0\n",
      "After53 = 0.0\n",
      "\n",
      "Before54 = 6.0\n",
      "After54 = 0.0\n",
      "\n",
      "Before55 = 6.0\n",
      "After55 = 0.0\n",
      "\n",
      "Before56 = 6.0\n",
      "After56 = 0.0\n",
      "\n",
      "Before57 = 6.0\n",
      "After57 = 0.0\n",
      "\n",
      "Before58 = 6.0\n",
      "After58 = 0.0\n",
      "\n",
      "Before59 = 6.0\n",
      "After59 = 0.0\n",
      "\n",
      "Before60 = 6.0\n",
      "After60 = 0.0\n",
      "\n",
      "Before61 = 6.0\n",
      "After61 = 0.0\n",
      "\n",
      "Before62 = 6.0\n",
      "After62 = 0.0\n",
      "\n",
      "Before63 = 5.0\n",
      "After63 = 0.0\n",
      "\n",
      "Before64 = 5.0\n",
      "After64 = 0.0\n",
      "\n",
      "Before65 = 5.0\n",
      "After65 = 0.0\n",
      "\n",
      "Before66 = 5.0\n",
      "After66 = 0.0\n",
      "\n",
      "Before67 = 5.0\n",
      "After67 = 0.0\n",
      "\n",
      "Before68 = 5.0\n",
      "After68 = 0.0\n",
      "\n",
      "Before69 = 5.0\n",
      "After69 = 0.0\n",
      "\n",
      "Before70 = 5.0\n",
      "After70 = 0.0\n",
      "\n",
      "Before71 = 5.0\n",
      "After71 = 0.0\n",
      "\n",
      "Before72 = 5.0\n",
      "After72 = 0.0\n",
      "\n",
      "Before73 = 5.0\n",
      "After73 = 0.0\n",
      "\n",
      "Before74 = 5.0\n",
      "After74 = 0.0\n",
      "\n",
      "Before75 = 5.0\n",
      "After75 = 0.0\n",
      "\n",
      "Before76 = 5.0\n",
      "After76 = 0.0\n",
      "\n",
      "Before77 = 5.0\n",
      "After77 = 0.0\n",
      "\n",
      "Before78 = 5.0\n",
      "After78 = 0.0\n",
      "\n",
      "Before79 = 5.0\n",
      "After79 = 0.0\n",
      "\n",
      "Before80 = 5.0\n",
      "After80 = 0.0\n",
      "\n",
      "Before81 = 5.0\n",
      "After81 = 0.0\n",
      "\n",
      "Before82 = 5.0\n",
      "After82 = 0.0\n",
      "\n",
      "Before83 = 5.0\n",
      "After83 = 0.0\n",
      "\n",
      "Before84 = 5.0\n",
      "After84 = 0.0\n",
      "\n",
      "Before85 = 5.0\n",
      "After85 = 0.0\n",
      "\n",
      "Before86 = 5.0\n",
      "After86 = 0.0\n",
      "\n",
      "Before87 = 5.0\n",
      "After87 = 0.0\n",
      "\n",
      "Before88 = 5.0\n",
      "After88 = 0.0\n",
      "\n",
      "Before89 = 5.0\n",
      "After89 = 0.0\n",
      "\n",
      "Before90 = 5.0\n",
      "After90 = 0.0\n",
      "\n",
      "Before91 = 5.0\n",
      "After91 = 0.0\n",
      "\n",
      "Before92 = 5.0\n",
      "After92 = 0.0\n",
      "\n",
      "Before93 = 5.0\n",
      "After93 = 0.0\n",
      "\n",
      "Before94 = 5.0\n",
      "After94 = 0.0\n",
      "\n",
      "Before95 = 5.0\n",
      "After95 = 0.0\n",
      "\n",
      "Before96 = 5.0\n",
      "After96 = 0.0\n",
      "\n",
      "Before97 = 5.0\n",
      "After97 = 0.0\n",
      "\n",
      "Before98 = 5.0\n",
      "After98 = 0.0\n",
      "\n",
      "Before99 = 5.0\n",
      "After99 = 0.0\n",
      "\n",
      "Before100 = 5.0\n",
      "After100 = 0.0\n",
      "\n",
      "Before101 = 5.0\n",
      "After101 = 0.0\n",
      "\n",
      "Before102 = 5.0\n",
      "After102 = 0.0\n",
      "\n",
      "Before103 = 5.0\n",
      "After103 = 0.0\n",
      "\n",
      "Before104 = 5.0\n",
      "After104 = 0.0\n",
      "\n",
      "Before105 = 5.0\n",
      "After105 = 0.0\n",
      "\n",
      "Before106 = 5.0\n",
      "After106 = 0.0\n",
      "\n",
      "Before107 = 5.0\n",
      "After107 = 0.0\n",
      "\n",
      "Before108 = 5.0\n",
      "After108 = 0.0\n",
      "\n",
      "Before109 = 5.0\n",
      "After109 = 0.0\n",
      "\n",
      "Before110 = 5.0\n",
      "After110 = 0.0\n",
      "\n",
      "Before111 = 5.0\n",
      "After111 = 0.0\n",
      "\n",
      "Before112 = 5.0\n",
      "After112 = 0.0\n",
      "\n",
      "Before113 = 5.0\n",
      "After113 = 0.0\n",
      "\n",
      "Before114 = 5.0\n",
      "After114 = 0.0\n",
      "\n",
      "Before115 = 5.0\n",
      "After115 = 0.0\n",
      "\n",
      "Before116 = 5.0\n",
      "After116 = 0.0\n",
      "\n",
      "Before117 = 5.0\n",
      "After117 = 0.0\n",
      "\n",
      "Before118 = 5.0\n",
      "After118 = 0.0\n",
      "\n",
      "Before119 = 5.0\n",
      "After119 = 0.0\n",
      "\n",
      "Before120 = 5.0\n",
      "After120 = 0.0\n",
      "\n",
      "Before121 = 5.0\n",
      "After121 = 0.0\n",
      "\n",
      "Before122 = 5.0\n",
      "After122 = 0.0\n",
      "\n"
     ]
    }
   ],
   "source": [
    "# Control\n",
    "for i in range(num_rows):\n",
    "    print(f\"Before{i} = {before[i]}\")\n",
    "    print(f\"After{i} = {after[i]}\")  \n",
    "    print()"
   ]
  },
  {
   "cell_type": "code",
   "execution_count": 15,
   "id": "a3d035c9",
   "metadata": {},
   "outputs": [
    {
     "name": "stdout",
     "output_type": "stream",
     "text": [
      "[[-1.  1.  0. ...  0.  0.  0.]\n",
      " [ 0. -1.  1. ...  0.  0.  0.]\n",
      " [ 0.  0. -1. ...  0.  0.  0.]\n",
      " ...\n",
      " [ 0.  0.  0. ... -5.  0.  0.]\n",
      " [ 0.  0.  0. ...  0. -5.  0.]\n",
      " [ 0.  0.  0. ...  0.  0. -5.]]\n"
     ]
    }
   ],
   "source": [
    "print(A)"
   ]
  },
  {
   "cell_type": "markdown",
   "id": "ce3dd860",
   "metadata": {},
   "source": [
    "Now that we have the $A$-matrix, we apply the same procedure as in task 2."
   ]
  },
  {
   "cell_type": "code",
   "execution_count": 16,
   "id": "8d4f9cf2",
   "metadata": {
    "scrolled": true
   },
   "outputs": [
    {
     "name": "stdout",
     "output_type": "stream",
     "text": [
      "0.9999999999999999\n"
     ]
    }
   ],
   "source": [
    "# Replace first column with 1's in the A-matrix to get A1\n",
    "A[:,0] = 1\n",
    "b = np.zeros(num_rows)\n",
    "b[0] = 1\n",
    "# b = np.array([b])\n",
    "\n",
    "# print(At)\n",
    "PT = scipy.linalg.solve(np.transpose(A), b.T)\n",
    "P = PT.T\n",
    "# print(P)\n",
    "print(sum(P))"
   ]
  },
  {
   "cell_type": "markdown",
   "id": "72d04181",
   "metadata": {},
   "source": [
    "To find the probability of state 0, we summarize the relevant steady states using the index formula with j = 0 and l = 0,1 and 2"
   ]
  },
  {
   "cell_type": "code",
   "execution_count": 17,
   "id": "455255a1",
   "metadata": {},
   "outputs": [
    {
     "name": "stdout",
     "output_type": "stream",
     "text": [
      "The indexes are [0, 1, 2]\n",
      "0.09179723606063121\n"
     ]
    }
   ],
   "source": [
    "j = 0\n",
    "indexes = []\n",
    "for l in range(k):\n",
    "    indexes.append(index(j, l))\n",
    "print(f\"The indexes are {indexes}\")\n",
    "P_0s = [P[ind] for ind in indexes]\n",
    "P_0_tot = sum(P_0s)\n",
    "print(P_0_tot)"
   ]
  },
  {
   "cell_type": "code",
   "execution_count": 18,
   "id": "043cada6",
   "metadata": {},
   "outputs": [
    {
     "name": "stdout",
     "output_type": "stream",
     "text": [
      "Average time we are not able to produce product 2 = 9.18 % of the time\n"
     ]
    }
   ],
   "source": [
    "print(f\"Average time we are not able to produce product 2 = {P_0_tot*100:.2f} % of the time\")"
   ]
  },
  {
   "cell_type": "markdown",
   "id": "735e5656",
   "metadata": {},
   "source": [
    "#### b) "
   ]
  },
  {
   "cell_type": "code",
   "execution_count": 19,
   "id": "9aa35eb6",
   "metadata": {},
   "outputs": [
    {
     "name": "stdout",
     "output_type": "stream",
     "text": [
      "A stock-out situation will occur 0.46 [unit???]\n",
      "Average holding cost = 44.61\n",
      "Average shipping cost = 25.00\n",
      "Lost production cost = 21.11\n"
     ]
    }
   ],
   "source": [
    "stock_out = la*P_0_tot\n",
    "print(f\"A stock-out situation will occur {stock_out:.2f} [unit???]\")\n",
    "# Usikker på disse, må høre med studass\n",
    "holding_cost = sum([(P[i]+P[i+1]+P[i+2])*i for i in range(41)]*cH)\n",
    "print(f\"Average holding cost = {holding_cost:.2f}\")\n",
    "shipping_cost = cF*(la/Q)\n",
    "print(f\"Average shipping cost = {shipping_cost:.2f}\")\n",
    "lost_production_cost = cS*P_0_tot\n",
    "print(f\"Lost production cost = {lost_production_cost:.2f}\")"
   ]
  },
  {
   "cell_type": "markdown",
   "id": "becef438",
   "metadata": {},
   "source": [
    "#### c) "
   ]
  },
  {
   "cell_type": "markdown",
   "id": "40970e92",
   "metadata": {},
   "source": [
    "For this task, we apply the same methodology as in **Problem 8.2** in exercise 6."
   ]
  },
  {
   "cell_type": "code",
   "execution_count": 25,
   "id": "ac7694e3",
   "metadata": {},
   "outputs": [
    {
     "name": "stdout",
     "output_type": "stream",
     "text": [
      "9.0\n",
      "5.196152422706632\n",
      "5\n"
     ]
    }
   ],
   "source": [
    "\n",
    "L = alpha/mu # Lead time, by the gamma distribution (eq. 2.34)\n",
    "L_Var = alpha/mu**2 # Variance lead time, by the gamma distribution (eq. 2.35)\n",
    "L_SD = math.sqrt(L_Var)\n",
    "Delta = la # demand rate, we assume its normally distributed with sigma = 1\n",
    "D_Var = 1\n",
    "D_SD = 1\n",
    "cS = 230\n",
    "cH = 2\n",
    "cF = 100\n",
    "cP = 10 # Assume that the lost sale penalty is just a loss of profit\n",
    "print(L)\n",
    "print(L_SD)\n",
    "print(Delta)\n"
   ]
  },
  {
   "cell_type": "markdown",
   "id": "f4c561a7",
   "metadata": {},
   "source": [
    "First, we write down equations (8.17) and (8.19) as functions of r and Q respectively. In order to do that we need an expression for B(r), and we use equation (8.13) since the demand is normally distributed. Recall that $\\Phi(u) = F_U(u)$ and $\\phi(u) = f_U(u)$, that is Phi and phi is the standard normally distributed cumulative density function and probability density function respectively"
   ]
  },
  {
   "cell_type": "code",
   "execution_count": 21,
   "id": "cbf20f17",
   "metadata": {},
   "outputs": [],
   "source": [
    "Phi = lambda u: scipy.stats.norm().cdf(u)\n",
    "phi = lambda u: scipy.stats.norm().pdf(u)"
   ]
  },
  {
   "cell_type": "code",
   "execution_count": 22,
   "id": "fcdf07c2",
   "metadata": {},
   "outputs": [],
   "source": [
    "# Equation 8.13\n",
    "calc_B = lambda r: (Delta -r)*(1 - Phi((r - Delta)/D_SD)) + D_SD*phi((r - Delta)/D_SD)"
   ]
  },
  {
   "cell_type": "code",
   "execution_count": 23,
   "id": "e460f610",
   "metadata": {},
   "outputs": [],
   "source": [
    "# Equation 8.17\n",
    "calc_Q = lambda r: math.sqrt(2*Delta*(cF + cP*calc_B(r))/cH)\n",
    "# Equation 8.19\n",
    "ILS = 1 # Assuming lost_sales\n",
    "def calc_r(Q):\n",
    "    norm =scipy.stats.norm(Delta, D_SD)\n",
    "    frac = (Delta*cP + (ILS - 1)*cH*Q)/(Delta*cP + ILS*cH*Q)\n",
    "    return norm.ppf(frac)"
   ]
  },
  {
   "cell_type": "code",
   "execution_count": 24,
   "id": "e874d76c",
   "metadata": {},
   "outputs": [
    {
     "name": "stdout",
     "output_type": "stream",
     "text": [
      "Iteration: 1\n",
      "r = 5.07, Q = 22.36\n",
      "Iteration: 2\n",
      "r = 5.06, Q = 22.77\n",
      "Iteration: 3\n",
      "r = 5.06, Q = 22.77\n",
      "Iteration: 4\n",
      "r = 5.06, Q = 22.77\n",
      "Iteration: 5\n",
      "r = 5.06, Q = 22.77\n",
      "Iteration: 6\n",
      "r = 5.06, Q = 22.77\n",
      "----Solution found at r = 5.0585, Q = 22.7710\n"
     ]
    }
   ],
   "source": [
    "# Iterative scheme\n",
    "tol = 1e-6 #Tolerance\n",
    "i = 1\n",
    "Q = math.inf\n",
    "r = 0 #These two are really random. I use0 and math.inf to get \n",
    "# an unachievable difference for the first iteration\n",
    "diffR = []\n",
    "diffQ = []\n",
    "while True:\n",
    "    print(f\"Iteration: {i}\")\n",
    "    prev_r = r\n",
    "    prev_Q = Q\n",
    "    if i == 1:\n",
    "        Q = math.sqrt(2*Delta*cF/cH) # First step, B(r) = 0\n",
    "    else:\n",
    "        Q = calc_Q(r)\n",
    "    r = calc_r(Q)\n",
    "    diffR.append(abs(r - prev_r))\n",
    "    diffQ.append(abs(Q - prev_Q))\n",
    "    print(f\"r = {r:.2f}, Q = {Q:.2f}\")\n",
    "    if diffR[-1] < tol and diffQ[-1] < tol:\n",
    "        print(f\"----Solution found at r = {r:.4f}, Q = {Q:.4f}\")\n",
    "        break\n",
    "    \n",
    "    i += 1\n",
    "    if i >= 10000:\n",
    "        break\n",
    "        \n",
    "#     print(f\"r = {r:.2f}, Q = {Q.:2f} ok\")"
   ]
  },
  {
   "cell_type": "markdown",
   "id": "d6dd5215",
   "metadata": {},
   "source": [
    "# Task 4 "
   ]
  },
  {
   "cell_type": "markdown",
   "id": "e82b674d",
   "metadata": {},
   "source": [
    "Skip denne? Ser ikke veldig relevant ut for eksamen."
   ]
  }
 ],
 "metadata": {
  "kernelspec": {
   "display_name": "Python 3",
   "language": "python",
   "name": "python3"
  },
  "language_info": {
   "codemirror_mode": {
    "name": "ipython",
    "version": 3
   },
   "file_extension": ".py",
   "mimetype": "text/x-python",
   "name": "python",
   "nbconvert_exporter": "python",
   "pygments_lexer": "ipython3",
   "version": "3.8.8"
  }
 },
 "nbformat": 4,
 "nbformat_minor": 5
}
